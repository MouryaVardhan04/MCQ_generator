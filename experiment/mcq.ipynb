{
 "cells": [
  {
   "cell_type": "code",
   "execution_count": 4,
   "metadata": {},
   "outputs": [],
   "source": [
    "from langchain.llms import OpenAI\n",
    "from langchain.chat_models import ChatOpenAI\n",
    "from langchain.prompts import PromptTemplate\n",
    "from langchain.chains import LLMChain\n",
    "from langchain.chains import SequentialChain\n",
    "from langchain.callbacks import get_openai_callback\n",
    "import os\n",
    "import json\n",
    "import pandas as pd\n",
    "import traceback\n",
    "from dotenv import load_dotenv\n",
    "import PyPDF2"
   ]
  },
  {
   "cell_type": "code",
   "execution_count": 5,
   "metadata": {},
   "outputs": [],
   "source": [
    "load_dotenv()\n",
    "KEY = os.getenv(\"OPENAI_API_KEY\")\n"
   ]
  },
  {
   "cell_type": "code",
   "execution_count": 6,
   "metadata": {},
   "outputs": [
    {
     "name": "stderr",
     "output_type": "stream",
     "text": [
      "/var/folders/11/0l10cpcs5wz0bsg7gzqwp5k80000gn/T/ipykernel_42961/4196351380.py:1: LangChainDeprecationWarning: The class `ChatOpenAI` was deprecated in LangChain 0.0.10 and will be removed in 1.0. An updated version of the class exists in the langchain-openai package and should be used instead. To use it run `pip install -U langchain-openai` and import as `from langchain_openai import ChatOpenAI`.\n",
      "  llm = ChatOpenAI(openai_api_key= KEY ,model_name='gpt-3.5-turbo',temperature=0.3)\n"
     ]
    }
   ],
   "source": [
    "llm = ChatOpenAI(openai_api_key= KEY ,model_name='gpt-3.5-turbo',temperature=0.3)"
   ]
  },
  {
   "cell_type": "code",
   "execution_count": 7,
   "metadata": {},
   "outputs": [],
   "source": [
    "RESPONSE_JSON = {\n",
    "    \"1\": {\n",
    "        \"mcq\": \"multiple choice question\",\n",
    "        \"options\": {\n",
    "            \"a\": \"choice here\",\n",
    "            \"b\": \"choice here\",\n",
    "            \"c\": \"choice here\",\n",
    "            \"d\": \"choice here\",\n",
    "        },\n",
    "        \"correct\": \"correct answer\",\n",
    "        \"explain\":\"explaination\"\n",
    "    },\n",
    "    \"2\": {\n",
    "        \"mcq\": \"multiple choice question\",\n",
    "        \"options\": {\n",
    "            \"a\": \"choice here\",\n",
    "            \"b\": \"choice here\",\n",
    "            \"c\": \"choice here\",\n",
    "            \"d\": \"choice here\",\n",
    "        },\n",
    "        \"correct\": \"correct answer\",\n",
    "        \"explain\":\"explaination\"\n",
    "    },\n",
    "    \"3\": {\n",
    "        \"mcq\": \"multiple choice question\",\n",
    "        \"options\": {\n",
    "            \"a\": \"choice here\",\n",
    "            \"b\": \"choice here\",\n",
    "            \"c\": \"choice here\",\n",
    "            \"d\": \"choice here\",\n",
    "        },\n",
    "        \"correct\": \"correct answer\",\n",
    "        \"explain\":\"explaination\"\n",
    "    },\n",
    "}"
   ]
  },
  {
   "cell_type": "code",
   "execution_count": 8,
   "metadata": {},
   "outputs": [],
   "source": [
    "TEMPLATE = \"\"\"\n",
    "Text:{text}\n",
    "You are an expert MCQ maker. Given the above text, it is your job to \\\n",
    "create a quiz of {number} multiple choice questions for {subject} students in {tone} tone.\n",
    "For each question, provide:\n",
    "- The question\n",
    "- Four options (a, b, c, d)\n",
    "- The correct answer (as a, b, c, or d)\n",
    "- A brief explanation for the correct answer\n",
    "\n",
    "Make sure the questions are not repeated and check all the questions to be conforming the text as well.\n",
    "Format your response like the RESPONSE_JSON below and use it as a guide.\n",
    "Ensure to make {number} MCQs.\n",
    "### RESPONSE_JSON\n",
    "{response_json}\n",
    "\"\"\""
   ]
  },
  {
   "cell_type": "code",
   "execution_count": 9,
   "metadata": {},
   "outputs": [],
   "source": [
    "quiz_generation_prompt = PromptTemplate(\n",
    "    input_variables=[\"text\", \"number\", \"subject\", \"tone\", \"response_json\"],\n",
    "    template=TEMPLATE\n",
    "    )"
   ]
  },
  {
   "cell_type": "code",
   "execution_count": 10,
   "metadata": {},
   "outputs": [
    {
     "name": "stderr",
     "output_type": "stream",
     "text": [
      "/var/folders/11/0l10cpcs5wz0bsg7gzqwp5k80000gn/T/ipykernel_42961/2669661367.py:1: LangChainDeprecationWarning: The class `LLMChain` was deprecated in LangChain 0.1.17 and will be removed in 1.0. Use RunnableSequence, e.g., `prompt | llm` instead.\n",
      "  quiz_chain=LLMChain(llm=llm, prompt=quiz_generation_prompt, output_key=\"quiz\", verbose=True)\n"
     ]
    }
   ],
   "source": [
    "quiz_chain=LLMChain(llm=llm, prompt=quiz_generation_prompt, output_key=\"quiz\", verbose=True)"
   ]
  },
  {
   "cell_type": "code",
   "execution_count": 11,
   "metadata": {},
   "outputs": [],
   "source": [
    "TEMPLATE2=\"\"\"\n",
    "You are an expert english grammarian and writer. Given a Multiple Choice Quiz for {subject} students.\\\n",
    "You need to evaluate the complexity of the question and give a complete analysis of the quiz. Only use at max 50 words for complexity analysis. \n",
    "if the quiz is not at per with the cognitive and analytical abilities of the students,\\\n",
    "update the quiz questions which needs to be changed and change the tone such that it perfectly fits the student abilities\n",
    "Quiz_MCQs:\n",
    "{quiz}\n",
    "\n",
    "Check from an expert English Writer of the above quiz:\n",
    "\"\"\""
   ]
  },
  {
   "cell_type": "code",
   "execution_count": 12,
   "metadata": {},
   "outputs": [],
   "source": [
    "quiz_evaluation_prompt=PromptTemplate(\n",
    "    input_variables=[\"subject\", \"quiz\"],\n",
    "    template=TEMPLATE\n",
    ") "
   ]
  },
  {
   "cell_type": "code",
   "execution_count": 13,
   "metadata": {},
   "outputs": [],
   "source": [
    "review_chain=LLMChain(llm=llm, prompt=quiz_evaluation_prompt, output_key=\"review\", verbose=True) "
   ]
  },
  {
   "cell_type": "code",
   "execution_count": 14,
   "metadata": {},
   "outputs": [],
   "source": [
    "generate_evaluate_chain=SequentialChain(chains=[quiz_chain, review_chain], input_variables=[\"text\", \"number\", \"subject\", \"tone\", \"response_json\"],\n",
    "                                        output_variables=[\"quiz\", \"review\"], verbose=True,)"
   ]
  },
  {
   "cell_type": "code",
   "execution_count": 15,
   "metadata": {},
   "outputs": [],
   "source": [
    "file_path=r\"/Users/b.anasurya/Desktop/Generative AI/MCQ_generator/data.txt\""
   ]
  },
  {
   "cell_type": "code",
   "execution_count": 16,
   "metadata": {},
   "outputs": [
    {
     "data": {
      "text/plain": [
       "'/Users/b.anasurya/Desktop/Generative AI/MCQ_generator/data.txt'"
      ]
     },
     "execution_count": 16,
     "metadata": {},
     "output_type": "execute_result"
    }
   ],
   "source": [
    "file_path"
   ]
  },
  {
   "cell_type": "code",
   "execution_count": 31,
   "metadata": {},
   "outputs": [],
   "source": [
    "with open(file_path,'r') as file:\n",
    "    TEXT = file.read() "
   ]
  },
  {
   "cell_type": "code",
   "execution_count": 32,
   "metadata": {},
   "outputs": [
    {
     "name": "stdout",
     "output_type": "stream",
     "text": [
      "\"Biological\" redirects here. For other uses, see Biological (disambiguation) and Biology (disambiguation).\n",
      "\n",
      "\n",
      "\n",
      "\n",
      "\n",
      "\n",
      "Clockwise from upper left: A Nile crocodile, the common sunflower, Escherichia coli, Amoeba proteus, the fruit fly, and Sarcoscypha coccinea\n",
      "Part of a series on\n",
      "Biology\n",
      "\n",
      "IndexOutlineGlossary\n",
      "History (timeline)\n",
      "Key components\n",
      "Branches\n",
      "Research\n",
      "Applications\n",
      "icon Biology portal Category\n",
      "vte\n",
      "Biology is the scientific study of life and living organisms. It is a broad natural science that encompasses a wide range of fields and unifying principles that explain the structure, function, growth, origin, evolution, and distribution of life. Central to biology are five fundamental themes: the cell as the basic unit of life, genes and heredity as the basis of inheritance, evolution as the driver of biological diversity, energy transformation for sustaining life processes, and the maintenance of internal stability (homeostasis).[1][2]\n",
      "\n",
      "Biology examines life across multiple levels of organization, from molecules and cells to organisms, populations, and ecosystems. Subdisciplines include molecular biology, physiology, ecology, evolutionary biology, developmental biology, and systematics, among others. Each of these fields applies a range of methods to investigate biological phenomena, including observation, experimentation, and mathematical modeling. Modern biology is grounded in the theory of evolution by natural selection, first articulated by Charles Darwin, and in the molecular understanding of genes encoded in DNA. The discovery of the structure of DNA and advances in molecular genetics have transformed many areas of biology, leading to applications in medicine, agriculture, biotechnology, and environmental science.\n",
      "\n",
      "Life on Earth is believed to have originated over 3.7 billion years ago.[3] Today, it includes a vast diversity of organisms—from single-celled archaea and bacteria to complex multicellular plants, fungi, and animals. Biologists classify organisms based on shared characteristics and evolutionary relationships, using taxonomic and phylogenetic frameworks. These organisms interact with each other and with their environments in ecosystems, where they play roles in energy flow and nutrient cycling. As a constantly evolving field, biology incorporates new discoveries and technologies that enhance the understanding of life and its processes, while contributing to solutions for challenges such as disease, climate change, and biodiversity loss.\n",
      "\n",
      "Etymology\n",
      "From Greek bios, life, (from Proto-Indo-European root *gwei-, to live) and logy, study of. The compound was coined in 1800 by Karl Friedrich Burdach and in 1802 used by both German naturalist Gottfried Reinhold Treviranus and Jean-Baptiste Lamarck.[4]\n",
      "\n",
      "History\n",
      "Main article: History of biology\n",
      "\n",
      "Drawing of what now are called Schwann cells by one of the founders of cell theory, Theodor Schwann.\n",
      "The earliest of roots of science, which included medicine, can be traced to ancient Egypt and Mesopotamia in around 3000 to 1200 BCE.[5][6] Their contributions shaped ancient Greek natural philosophy.[7][5][6][8][9] Ancient Greek philosophers such as Aristotle (384–322 BCE) contributed extensively to the development of biological knowledge.[10] He explored biological causation and the diversity of life. His successor, Theophrastus, began the scientific study of plants.[11] Scholars of the medieval Islamic world who wrote on biology included al-Jahiz (781–869), Al-Dīnawarī (828–896), who wrote on botany,[12] and Rhazes (865–925) who wrote on anatomy and physiology. Medicine was especially well studied by Islamic scholars working in Greek philosopher traditions, while natural history drew heavily on Aristotelian thought.\n",
      "\n",
      "Biology began to quickly develop with Anton van Leeuwenhoek's dramatic improvement of the microscope. It was then that scholars discovered spermatozoa, bacteria, infusoria and the diversity of microscopic life. Investigations by Jan Swammerdam led to new interest in entomology and helped to develop techniques of microscopic dissection and staining.[13] Advances in microscopy had a profound impact on biological thinking. In the early 19th century, biologists pointed to the central importance of the cell. In 1838, Schleiden and Schwann began promoting the now universal ideas that (1) the basic unit of organisms is the cell and (2) that individual cells have all the characteristics of life, although they opposed the idea that (3) all cells come from the division of other cells, continuing to support spontaneous generation. However, Robert Remak and Rudolf Virchow were able to reify the third tenet, and by the 1860s most biologists accepted all three tenets which consolidated into cell theory.[14][15]\n",
      "\n",
      "Meanwhile, taxonomy and classification became the focus of natural historians. Carl Linnaeus published a basic taxonomy for the natural world in 1735, and in the 1750s introduced scientific names for all his species.[16] Georges-Louis Leclerc, Comte de Buffon, treated species as artificial categories and living forms as malleable—even suggesting the possibility of common descent.[17]\n",
      "\n",
      "\n",
      "In 1842, Charles Darwin penned his first sketch of On the Origin of Species.[18]\n",
      "Serious evolutionary thinking originated with the works of Jean-Baptiste Lamarck, who presented a coherent theory of evolution.[19] The British naturalist Charles Darwin, combining the biogeographical approach of Humboldt, the uniformitarian geology of Lyell, Malthus's writings on population growth, and his own morphological expertise and extensive natural observations, forged a more successful evolutionary theory based on natural selection; similar reasoning and evidence led Alfred Russel Wallace to independently reach the same conclusions.[20][21]\n",
      "\n",
      "The basis for modern genetics began with the work of Gregor Mendel in 1865.[22] This outlined the principles of biological inheritance.[23] However, the significance of his work was not realized until the early 20th century when evolution became a unified theory as the modern synthesis reconciled Darwinian evolution with classical genetics.[24] In the 1940s and early 1950s, a series of experiments by Alfred Hershey and Martha Chase pointed to DNA as the component of chromosomes that held the trait-carrying units that had become known as genes. A focus on new kinds of model organisms such as viruses and bacteria, along with the discovery of the double-helical structure of DNA by James Watson and Francis Crick in 1953, marked the transition to the era of molecular genetics. From the 1950s onwards, biology has been vastly extended in the molecular domain. The genetic code was cracked by Har Gobind Khorana, Robert W. Holley and Marshall Warren Nirenberg after DNA was understood to contain codons. The Human Genome Project was launched in 1990 to map the human genome.[25]\n",
      "\n",
      "Chemical basis\n",
      "Atoms and molecules\n",
      "Further information: Chemistry\n",
      "All organisms are made up of chemical elements;[26] oxygen, carbon, hydrogen, and nitrogen account for most (96%) of the mass of all organisms, with calcium, phosphorus, sulfur, sodium, chlorine, and magnesium constituting essentially all the remainder. Different elements can combine to form compounds such as water, which is fundamental to life.[26] Biochemistry is the study of chemical processes within and relating to living organisms. Molecular biology is the branch of biology that seeks to understand the molecular basis of biological activity in and between cells, including molecular synthesis, modification, mechanisms, and interactions.\n",
      "\n",
      "Water\n",
      "See also: Planetary habitability, Circumstellar habitable zone, and Water distribution on Earth\n",
      "\n",
      "Model of hydrogen bonds (1) between molecules of water\n",
      "Life arose from the Earth's first ocean, which formed some 3.8 billion years ago.[27] Since then, water continues to be the most abundant molecule in every organism. Water is important to life because it is an effective solvent, capable of dissolving solutes such as sodium and chloride ions or other small molecules to form an aqueous solution. Once dissolved in water, these solutes are more likely to come in contact with one another and therefore take part in chemical reactions that sustain life.[27] In terms of its molecular structure, water is a small polar molecule with a bent shape formed by the polar covalent bonds of two hydrogen (H) atoms to one oxygen (O) atom (H2O).[27] Because the O–H bonds are polar, the oxygen atom has a slight negative charge and the two hydrogen atoms have a slight positive charge.[27] This polar property of water allows it to attract other water molecules via hydrogen bonds, which makes water cohesive.[27] Surface tension results from the cohesive force due to the attraction between molecules at the surface of the liquid.[27] Water is also adhesive as it is able to adhere to the surface of any polar or charged non-water molecules.[27] Water is denser as a liquid than it is as a solid (or ice).[27] This unique property of water allows ice to float above liquid water such as ponds, lakes, and oceans, thereby insulating the liquid below from the cold air above.[27] Water has the capacity to absorb energy, giving it a higher specific heat capacity than other solvents such as ethanol.[27] Thus, a large amount of energy is needed to break the hydrogen bonds between water molecules to convert liquid water into water vapor.[27] As a molecule, water is not completely stable as each water molecule continuously dissociates into hydrogen and hydroxyl ions before reforming into a water molecule again.[27] In pure water, the number of hydrogen ions balances (or equals) the number of hydroxyl ions, resulting in a pH that is neutral.\n",
      "\n",
      "Organic compounds\n",
      "Further information: Organic chemistry\n",
      "\n",
      "Organic compounds such as glucose are vital to organisms.\n",
      "Organic compounds are molecules that contain carbon bonded to another element such as hydrogen.[27] With the exception of water, nearly all the molecules that make up each organism contain carbon.[27][28] Carbon can form covalent bonds with up to four other atoms, enabling it to form diverse, large, and complex molecules.[27][28] For example, a single carbon atom can form four single covalent bonds such as in methane, two double covalent bonds such as in carbon dioxide (CO2), or a triple covalent bond such as in carbon monoxide (CO). Moreover, carbon can form very long chains of interconnecting carbon–carbon bonds such as octane or ring-like structures such as glucose.\n",
      "\n",
      "The simplest form of an organic molecule is the hydrocarbon, which is a large family of organic compounds that are composed of hydrogen atoms bonded to a chain of carbon atoms. A hydrocarbon backbone can be substituted by other elements such as oxygen (O), hydrogen (H), phosphorus (P), and sulfur (S), which can change the chemical behavior of that compound.[27] Groups of atoms that contain these elements (O-, H-, P-, and S-) and are bonded to a central carbon atom or skeleton are called functional groups.[27] There are six prominent functional groups that can be found in organisms: amino group, carboxyl group, carbonyl group, hydroxyl group, phosphate group, and sulfhydryl group.[27]\n",
      "\n",
      "In 1953, the Miller–Urey experiment showed that organic compounds could be synthesized abiotically within a closed system mimicking the conditions of early Earth, thus suggesting that complex organic molecules could have arisen spontaneously in early Earth (see abiogenesis).[29][27]\n",
      "\n",
      "Macromolecules\n",
      "Main article: Macromolecule\n",
      "\n",
      "The (a) primary, (b) secondary, (c) tertiary, and (d) quaternary structures of a hemoglobin protein\n",
      "Macromolecules are large molecules made up of smaller subunits or monomers.[30] Monomers include sugars, amino acids, and nucleotides.[31] Carbohydrates include monomers and polymers of sugars.[32] Lipids are the only class of macromolecules that are not made up of polymers. They include steroids, phospholipids, and fats,[31] largely nonpolar and hydrophobic (water-repelling) substances.[33] Proteins are the most diverse of the macromolecules. They include enzymes, transport proteins, large signaling molecules, antibodies, and structural proteins. The basic unit (or monomer) of a protein is an amino acid.[30] Twenty amino acids are used in proteins.[30] Nucleic acids are polymers of nucleotides.[34] Their function is to store, transmit, and express hereditary information.[31]\n",
      "\n",
      "Cells\n",
      "Main article: Cell (biology)\n",
      "Cell theory states that cells are the fundamental units of life, that all living things are composed of one or more cells, and that all cells arise from preexisting cells through cell division.[35] Most cells are very small, with diameters ranging from 1 to 100 micrometers and are therefore only visible under a light or electron microscope.[36] There are generally two types of cells: eukaryotic cells, which contain a nucleus, and prokaryotic cells, which do not. Prokaryotes are single-celled organisms such as bacteria, whereas eukaryotes can be single-celled or multicellular. In multicellular organisms, every cell in the organism's body is derived ultimately from a single cell in a fertilized egg.\n",
      "\n",
      "Cell structure\n",
      "\n",
      "Structure of an animal cell depicting various organelles\n",
      "Every cell is enclosed within a cell membrane that separates its cytoplasm from the extracellular space.[37] A cell membrane consists of a lipid bilayer, including cholesterols that sit between phospholipids to maintain their fluidity at various temperatures. Cell membranes are semipermeable, allowing small molecules such as oxygen, carbon dioxide, and water to pass through while restricting the movement of larger molecules and charged particles such as ions.[38] Cell membranes also contain membrane proteins, including integral membrane proteins that go across the membrane serving as membrane transporters, and peripheral proteins that loosely attach to the outer side of the cell membrane, acting as enzymes shaping the cell.[39] Cell membranes are involved in various cellular processes such as cell adhesion, storing electrical energy, and cell signalling and serve as the attachment surface for several extracellular structures such as a cell wall, glycocalyx, and cytoskeleton.\n",
      "\n",
      "\n",
      "Structure of a plant cell\n",
      "Within the cytoplasm of a cell, there are many biomolecules such as proteins and nucleic acids.[40] In addition to biomolecules, eukaryotic cells have specialized structures called organelles that have their own lipid bilayers or are spatially units.[41] These organelles include the cell nucleus, which contains most of the cell's DNA, or mitochondria, which generate adenosine triphosphate (ATP) to power cellular processes. Other organelles such as endoplasmic reticulum and Golgi apparatus play a role in the synthesis and packaging of proteins, respectively. Biomolecules such as proteins can be engulfed by lysosomes, another specialized organelle. Plant cells have additional organelles that distinguish them from animal cells such as a cell wall that provides support for the plant cell, chloroplasts that harvest sunlight energy to produce sugar, and vacuoles that provide storage and structural support as well as being involved in reproduction and breakdown of plant seeds.[41] Eukaryotic cells also have cytoskeleton that is made up of microtubules, intermediate filaments, and microfilaments, all of which provide support for the cell and are involved in the movement of the cell and its organelles.[41] In terms of their structural composition, the microtubules are made up of tubulin (e.g., α-tubulin and β-tubulin) whereas intermediate filaments are made up of fibrous proteins.[41] Microfilaments are made up of actin molecules that interact with other strands of proteins.[41]\n",
      "\n",
      "\n"
     ]
    }
   ],
   "source": [
    "print(TEXT)"
   ]
  },
  {
   "cell_type": "code",
   "execution_count": 33,
   "metadata": {},
   "outputs": [
    {
     "data": {
      "text/plain": [
       "'{\"1\": {\"mcq\": \"multiple choice question\", \"options\": {\"a\": \"choice here\", \"b\": \"choice here\", \"c\": \"choice here\", \"d\": \"choice here\"}, \"correct\": \"correct answer\", \"explain\": \"explaination\"}, \"2\": {\"mcq\": \"multiple choice question\", \"options\": {\"a\": \"choice here\", \"b\": \"choice here\", \"c\": \"choice here\", \"d\": \"choice here\"}, \"correct\": \"correct answer\", \"explain\": \"explaination\"}, \"3\": {\"mcq\": \"multiple choice question\", \"options\": {\"a\": \"choice here\", \"b\": \"choice here\", \"c\": \"choice here\", \"d\": \"choice here\"}, \"correct\": \"correct answer\", \"explain\": \"explaination\"}}'"
      ]
     },
     "execution_count": 33,
     "metadata": {},
     "output_type": "execute_result"
    }
   ],
   "source": [
    "# Serialize the python dictionary into a JSON-formatted string\n",
    "json.dumps(RESPONSE_JSON)"
   ]
  },
  {
   "cell_type": "code",
   "execution_count": 34,
   "metadata": {},
   "outputs": [],
   "source": [
    "NUMBER=5 \n",
    "SUBJECT=\"Biology\"\n",
    "TONE=\"Hard\""
   ]
  },
  {
   "cell_type": "code",
   "execution_count": 35,
   "metadata": {},
   "outputs": [
    {
     "name": "stderr",
     "output_type": "stream",
     "text": [
      "Error in StdOutCallbackHandler.on_chain_start callback: AttributeError(\"'NoneType' object has no attribute 'get'\")\n",
      "Error in StdOutCallbackHandler.on_chain_start callback: AttributeError(\"'NoneType' object has no attribute 'get'\")\n"
     ]
    },
    {
     "name": "stdout",
     "output_type": "stream",
     "text": [
      "Prompt after formatting:\n",
      "\u001b[32;1m\u001b[1;3m\n",
      "Text:\"Biological\" redirects here. For other uses, see Biological (disambiguation) and Biology (disambiguation).\n",
      "\n",
      "\n",
      "\n",
      "\n",
      "\n",
      "\n",
      "Clockwise from upper left: A Nile crocodile, the common sunflower, Escherichia coli, Amoeba proteus, the fruit fly, and Sarcoscypha coccinea\n",
      "Part of a series on\n",
      "Biology\n",
      "\n",
      "IndexOutlineGlossary\n",
      "History (timeline)\n",
      "Key components\n",
      "Branches\n",
      "Research\n",
      "Applications\n",
      "icon Biology portal Category\n",
      "vte\n",
      "Biology is the scientific study of life and living organisms. It is a broad natural science that encompasses a wide range of fields and unifying principles that explain the structure, function, growth, origin, evolution, and distribution of life. Central to biology are five fundamental themes: the cell as the basic unit of life, genes and heredity as the basis of inheritance, evolution as the driver of biological diversity, energy transformation for sustaining life processes, and the maintenance of internal stability (homeostasis).[1][2]\n",
      "\n",
      "Biology examines life across multiple levels of organization, from molecules and cells to organisms, populations, and ecosystems. Subdisciplines include molecular biology, physiology, ecology, evolutionary biology, developmental biology, and systematics, among others. Each of these fields applies a range of methods to investigate biological phenomena, including observation, experimentation, and mathematical modeling. Modern biology is grounded in the theory of evolution by natural selection, first articulated by Charles Darwin, and in the molecular understanding of genes encoded in DNA. The discovery of the structure of DNA and advances in molecular genetics have transformed many areas of biology, leading to applications in medicine, agriculture, biotechnology, and environmental science.\n",
      "\n",
      "Life on Earth is believed to have originated over 3.7 billion years ago.[3] Today, it includes a vast diversity of organisms—from single-celled archaea and bacteria to complex multicellular plants, fungi, and animals. Biologists classify organisms based on shared characteristics and evolutionary relationships, using taxonomic and phylogenetic frameworks. These organisms interact with each other and with their environments in ecosystems, where they play roles in energy flow and nutrient cycling. As a constantly evolving field, biology incorporates new discoveries and technologies that enhance the understanding of life and its processes, while contributing to solutions for challenges such as disease, climate change, and biodiversity loss.\n",
      "\n",
      "Etymology\n",
      "From Greek bios, life, (from Proto-Indo-European root *gwei-, to live) and logy, study of. The compound was coined in 1800 by Karl Friedrich Burdach and in 1802 used by both German naturalist Gottfried Reinhold Treviranus and Jean-Baptiste Lamarck.[4]\n",
      "\n",
      "History\n",
      "Main article: History of biology\n",
      "\n",
      "Drawing of what now are called Schwann cells by one of the founders of cell theory, Theodor Schwann.\n",
      "The earliest of roots of science, which included medicine, can be traced to ancient Egypt and Mesopotamia in around 3000 to 1200 BCE.[5][6] Their contributions shaped ancient Greek natural philosophy.[7][5][6][8][9] Ancient Greek philosophers such as Aristotle (384–322 BCE) contributed extensively to the development of biological knowledge.[10] He explored biological causation and the diversity of life. His successor, Theophrastus, began the scientific study of plants.[11] Scholars of the medieval Islamic world who wrote on biology included al-Jahiz (781–869), Al-Dīnawarī (828–896), who wrote on botany,[12] and Rhazes (865–925) who wrote on anatomy and physiology. Medicine was especially well studied by Islamic scholars working in Greek philosopher traditions, while natural history drew heavily on Aristotelian thought.\n",
      "\n",
      "Biology began to quickly develop with Anton van Leeuwenhoek's dramatic improvement of the microscope. It was then that scholars discovered spermatozoa, bacteria, infusoria and the diversity of microscopic life. Investigations by Jan Swammerdam led to new interest in entomology and helped to develop techniques of microscopic dissection and staining.[13] Advances in microscopy had a profound impact on biological thinking. In the early 19th century, biologists pointed to the central importance of the cell. In 1838, Schleiden and Schwann began promoting the now universal ideas that (1) the basic unit of organisms is the cell and (2) that individual cells have all the characteristics of life, although they opposed the idea that (3) all cells come from the division of other cells, continuing to support spontaneous generation. However, Robert Remak and Rudolf Virchow were able to reify the third tenet, and by the 1860s most biologists accepted all three tenets which consolidated into cell theory.[14][15]\n",
      "\n",
      "Meanwhile, taxonomy and classification became the focus of natural historians. Carl Linnaeus published a basic taxonomy for the natural world in 1735, and in the 1750s introduced scientific names for all his species.[16] Georges-Louis Leclerc, Comte de Buffon, treated species as artificial categories and living forms as malleable—even suggesting the possibility of common descent.[17]\n",
      "\n",
      "\n",
      "In 1842, Charles Darwin penned his first sketch of On the Origin of Species.[18]\n",
      "Serious evolutionary thinking originated with the works of Jean-Baptiste Lamarck, who presented a coherent theory of evolution.[19] The British naturalist Charles Darwin, combining the biogeographical approach of Humboldt, the uniformitarian geology of Lyell, Malthus's writings on population growth, and his own morphological expertise and extensive natural observations, forged a more successful evolutionary theory based on natural selection; similar reasoning and evidence led Alfred Russel Wallace to independently reach the same conclusions.[20][21]\n",
      "\n",
      "The basis for modern genetics began with the work of Gregor Mendel in 1865.[22] This outlined the principles of biological inheritance.[23] However, the significance of his work was not realized until the early 20th century when evolution became a unified theory as the modern synthesis reconciled Darwinian evolution with classical genetics.[24] In the 1940s and early 1950s, a series of experiments by Alfred Hershey and Martha Chase pointed to DNA as the component of chromosomes that held the trait-carrying units that had become known as genes. A focus on new kinds of model organisms such as viruses and bacteria, along with the discovery of the double-helical structure of DNA by James Watson and Francis Crick in 1953, marked the transition to the era of molecular genetics. From the 1950s onwards, biology has been vastly extended in the molecular domain. The genetic code was cracked by Har Gobind Khorana, Robert W. Holley and Marshall Warren Nirenberg after DNA was understood to contain codons. The Human Genome Project was launched in 1990 to map the human genome.[25]\n",
      "\n",
      "Chemical basis\n",
      "Atoms and molecules\n",
      "Further information: Chemistry\n",
      "All organisms are made up of chemical elements;[26] oxygen, carbon, hydrogen, and nitrogen account for most (96%) of the mass of all organisms, with calcium, phosphorus, sulfur, sodium, chlorine, and magnesium constituting essentially all the remainder. Different elements can combine to form compounds such as water, which is fundamental to life.[26] Biochemistry is the study of chemical processes within and relating to living organisms. Molecular biology is the branch of biology that seeks to understand the molecular basis of biological activity in and between cells, including molecular synthesis, modification, mechanisms, and interactions.\n",
      "\n",
      "Water\n",
      "See also: Planetary habitability, Circumstellar habitable zone, and Water distribution on Earth\n",
      "\n",
      "Model of hydrogen bonds (1) between molecules of water\n",
      "Life arose from the Earth's first ocean, which formed some 3.8 billion years ago.[27] Since then, water continues to be the most abundant molecule in every organism. Water is important to life because it is an effective solvent, capable of dissolving solutes such as sodium and chloride ions or other small molecules to form an aqueous solution. Once dissolved in water, these solutes are more likely to come in contact with one another and therefore take part in chemical reactions that sustain life.[27] In terms of its molecular structure, water is a small polar molecule with a bent shape formed by the polar covalent bonds of two hydrogen (H) atoms to one oxygen (O) atom (H2O).[27] Because the O–H bonds are polar, the oxygen atom has a slight negative charge and the two hydrogen atoms have a slight positive charge.[27] This polar property of water allows it to attract other water molecules via hydrogen bonds, which makes water cohesive.[27] Surface tension results from the cohesive force due to the attraction between molecules at the surface of the liquid.[27] Water is also adhesive as it is able to adhere to the surface of any polar or charged non-water molecules.[27] Water is denser as a liquid than it is as a solid (or ice).[27] This unique property of water allows ice to float above liquid water such as ponds, lakes, and oceans, thereby insulating the liquid below from the cold air above.[27] Water has the capacity to absorb energy, giving it a higher specific heat capacity than other solvents such as ethanol.[27] Thus, a large amount of energy is needed to break the hydrogen bonds between water molecules to convert liquid water into water vapor.[27] As a molecule, water is not completely stable as each water molecule continuously dissociates into hydrogen and hydroxyl ions before reforming into a water molecule again.[27] In pure water, the number of hydrogen ions balances (or equals) the number of hydroxyl ions, resulting in a pH that is neutral.\n",
      "\n",
      "Organic compounds\n",
      "Further information: Organic chemistry\n",
      "\n",
      "Organic compounds such as glucose are vital to organisms.\n",
      "Organic compounds are molecules that contain carbon bonded to another element such as hydrogen.[27] With the exception of water, nearly all the molecules that make up each organism contain carbon.[27][28] Carbon can form covalent bonds with up to four other atoms, enabling it to form diverse, large, and complex molecules.[27][28] For example, a single carbon atom can form four single covalent bonds such as in methane, two double covalent bonds such as in carbon dioxide (CO2), or a triple covalent bond such as in carbon monoxide (CO). Moreover, carbon can form very long chains of interconnecting carbon–carbon bonds such as octane or ring-like structures such as glucose.\n",
      "\n",
      "The simplest form of an organic molecule is the hydrocarbon, which is a large family of organic compounds that are composed of hydrogen atoms bonded to a chain of carbon atoms. A hydrocarbon backbone can be substituted by other elements such as oxygen (O), hydrogen (H), phosphorus (P), and sulfur (S), which can change the chemical behavior of that compound.[27] Groups of atoms that contain these elements (O-, H-, P-, and S-) and are bonded to a central carbon atom or skeleton are called functional groups.[27] There are six prominent functional groups that can be found in organisms: amino group, carboxyl group, carbonyl group, hydroxyl group, phosphate group, and sulfhydryl group.[27]\n",
      "\n",
      "In 1953, the Miller–Urey experiment showed that organic compounds could be synthesized abiotically within a closed system mimicking the conditions of early Earth, thus suggesting that complex organic molecules could have arisen spontaneously in early Earth (see abiogenesis).[29][27]\n",
      "\n",
      "Macromolecules\n",
      "Main article: Macromolecule\n",
      "\n",
      "The (a) primary, (b) secondary, (c) tertiary, and (d) quaternary structures of a hemoglobin protein\n",
      "Macromolecules are large molecules made up of smaller subunits or monomers.[30] Monomers include sugars, amino acids, and nucleotides.[31] Carbohydrates include monomers and polymers of sugars.[32] Lipids are the only class of macromolecules that are not made up of polymers. They include steroids, phospholipids, and fats,[31] largely nonpolar and hydrophobic (water-repelling) substances.[33] Proteins are the most diverse of the macromolecules. They include enzymes, transport proteins, large signaling molecules, antibodies, and structural proteins. The basic unit (or monomer) of a protein is an amino acid.[30] Twenty amino acids are used in proteins.[30] Nucleic acids are polymers of nucleotides.[34] Their function is to store, transmit, and express hereditary information.[31]\n",
      "\n",
      "Cells\n",
      "Main article: Cell (biology)\n",
      "Cell theory states that cells are the fundamental units of life, that all living things are composed of one or more cells, and that all cells arise from preexisting cells through cell division.[35] Most cells are very small, with diameters ranging from 1 to 100 micrometers and are therefore only visible under a light or electron microscope.[36] There are generally two types of cells: eukaryotic cells, which contain a nucleus, and prokaryotic cells, which do not. Prokaryotes are single-celled organisms such as bacteria, whereas eukaryotes can be single-celled or multicellular. In multicellular organisms, every cell in the organism's body is derived ultimately from a single cell in a fertilized egg.\n",
      "\n",
      "Cell structure\n",
      "\n",
      "Structure of an animal cell depicting various organelles\n",
      "Every cell is enclosed within a cell membrane that separates its cytoplasm from the extracellular space.[37] A cell membrane consists of a lipid bilayer, including cholesterols that sit between phospholipids to maintain their fluidity at various temperatures. Cell membranes are semipermeable, allowing small molecules such as oxygen, carbon dioxide, and water to pass through while restricting the movement of larger molecules and charged particles such as ions.[38] Cell membranes also contain membrane proteins, including integral membrane proteins that go across the membrane serving as membrane transporters, and peripheral proteins that loosely attach to the outer side of the cell membrane, acting as enzymes shaping the cell.[39] Cell membranes are involved in various cellular processes such as cell adhesion, storing electrical energy, and cell signalling and serve as the attachment surface for several extracellular structures such as a cell wall, glycocalyx, and cytoskeleton.\n",
      "\n",
      "\n",
      "Structure of a plant cell\n",
      "Within the cytoplasm of a cell, there are many biomolecules such as proteins and nucleic acids.[40] In addition to biomolecules, eukaryotic cells have specialized structures called organelles that have their own lipid bilayers or are spatially units.[41] These organelles include the cell nucleus, which contains most of the cell's DNA, or mitochondria, which generate adenosine triphosphate (ATP) to power cellular processes. Other organelles such as endoplasmic reticulum and Golgi apparatus play a role in the synthesis and packaging of proteins, respectively. Biomolecules such as proteins can be engulfed by lysosomes, another specialized organelle. Plant cells have additional organelles that distinguish them from animal cells such as a cell wall that provides support for the plant cell, chloroplasts that harvest sunlight energy to produce sugar, and vacuoles that provide storage and structural support as well as being involved in reproduction and breakdown of plant seeds.[41] Eukaryotic cells also have cytoskeleton that is made up of microtubules, intermediate filaments, and microfilaments, all of which provide support for the cell and are involved in the movement of the cell and its organelles.[41] In terms of their structural composition, the microtubules are made up of tubulin (e.g., α-tubulin and β-tubulin) whereas intermediate filaments are made up of fibrous proteins.[41] Microfilaments are made up of actin molecules that interact with other strands of proteins.[41]\n",
      "\n",
      "\n",
      "You are an expert MCQ maker. Given the above text, it is your job to create a quiz of 5 multiple choice questions for Biology students in Hard tone.\n",
      "For each question, provide:\n",
      "- The question\n",
      "- Four options (a, b, c, d)\n",
      "- The correct answer (as a, b, c, or d)\n",
      "- A brief explanation for the correct answer\n",
      "\n",
      "Make sure the questions are not repeated and check all the questions to be conforming the text as well.\n",
      "Format your response like the RESPONSE_JSON below and use it as a guide.\n",
      "Ensure to make 5 MCQs.\n",
      "### RESPONSE_JSON\n",
      "{\"1\": {\"mcq\": \"multiple choice question\", \"options\": {\"a\": \"choice here\", \"b\": \"choice here\", \"c\": \"choice here\", \"d\": \"choice here\"}, \"correct\": \"correct answer\", \"explain\": \"explaination\"}, \"2\": {\"mcq\": \"multiple choice question\", \"options\": {\"a\": \"choice here\", \"b\": \"choice here\", \"c\": \"choice here\", \"d\": \"choice here\"}, \"correct\": \"correct answer\", \"explain\": \"explaination\"}, \"3\": {\"mcq\": \"multiple choice question\", \"options\": {\"a\": \"choice here\", \"b\": \"choice here\", \"c\": \"choice here\", \"d\": \"choice here\"}, \"correct\": \"correct answer\", \"explain\": \"explaination\"}}\n",
      "\u001b[0m\n"
     ]
    },
    {
     "name": "stderr",
     "output_type": "stream",
     "text": [
      "Error in StdOutCallbackHandler.on_chain_start callback: AttributeError(\"'NoneType' object has no attribute 'get'\")\n"
     ]
    },
    {
     "name": "stdout",
     "output_type": "stream",
     "text": [
      "\n",
      "\u001b[1m> Finished chain.\u001b[0m\n",
      "Prompt after formatting:\n",
      "\u001b[32;1m\u001b[1;3m\n",
      "Text:\"Biological\" redirects here. For other uses, see Biological (disambiguation) and Biology (disambiguation).\n",
      "\n",
      "\n",
      "\n",
      "\n",
      "\n",
      "\n",
      "Clockwise from upper left: A Nile crocodile, the common sunflower, Escherichia coli, Amoeba proteus, the fruit fly, and Sarcoscypha coccinea\n",
      "Part of a series on\n",
      "Biology\n",
      "\n",
      "IndexOutlineGlossary\n",
      "History (timeline)\n",
      "Key components\n",
      "Branches\n",
      "Research\n",
      "Applications\n",
      "icon Biology portal Category\n",
      "vte\n",
      "Biology is the scientific study of life and living organisms. It is a broad natural science that encompasses a wide range of fields and unifying principles that explain the structure, function, growth, origin, evolution, and distribution of life. Central to biology are five fundamental themes: the cell as the basic unit of life, genes and heredity as the basis of inheritance, evolution as the driver of biological diversity, energy transformation for sustaining life processes, and the maintenance of internal stability (homeostasis).[1][2]\n",
      "\n",
      "Biology examines life across multiple levels of organization, from molecules and cells to organisms, populations, and ecosystems. Subdisciplines include molecular biology, physiology, ecology, evolutionary biology, developmental biology, and systematics, among others. Each of these fields applies a range of methods to investigate biological phenomena, including observation, experimentation, and mathematical modeling. Modern biology is grounded in the theory of evolution by natural selection, first articulated by Charles Darwin, and in the molecular understanding of genes encoded in DNA. The discovery of the structure of DNA and advances in molecular genetics have transformed many areas of biology, leading to applications in medicine, agriculture, biotechnology, and environmental science.\n",
      "\n",
      "Life on Earth is believed to have originated over 3.7 billion years ago.[3] Today, it includes a vast diversity of organisms—from single-celled archaea and bacteria to complex multicellular plants, fungi, and animals. Biologists classify organisms based on shared characteristics and evolutionary relationships, using taxonomic and phylogenetic frameworks. These organisms interact with each other and with their environments in ecosystems, where they play roles in energy flow and nutrient cycling. As a constantly evolving field, biology incorporates new discoveries and technologies that enhance the understanding of life and its processes, while contributing to solutions for challenges such as disease, climate change, and biodiversity loss.\n",
      "\n",
      "Etymology\n",
      "From Greek bios, life, (from Proto-Indo-European root *gwei-, to live) and logy, study of. The compound was coined in 1800 by Karl Friedrich Burdach and in 1802 used by both German naturalist Gottfried Reinhold Treviranus and Jean-Baptiste Lamarck.[4]\n",
      "\n",
      "History\n",
      "Main article: History of biology\n",
      "\n",
      "Drawing of what now are called Schwann cells by one of the founders of cell theory, Theodor Schwann.\n",
      "The earliest of roots of science, which included medicine, can be traced to ancient Egypt and Mesopotamia in around 3000 to 1200 BCE.[5][6] Their contributions shaped ancient Greek natural philosophy.[7][5][6][8][9] Ancient Greek philosophers such as Aristotle (384–322 BCE) contributed extensively to the development of biological knowledge.[10] He explored biological causation and the diversity of life. His successor, Theophrastus, began the scientific study of plants.[11] Scholars of the medieval Islamic world who wrote on biology included al-Jahiz (781–869), Al-Dīnawarī (828–896), who wrote on botany,[12] and Rhazes (865–925) who wrote on anatomy and physiology. Medicine was especially well studied by Islamic scholars working in Greek philosopher traditions, while natural history drew heavily on Aristotelian thought.\n",
      "\n",
      "Biology began to quickly develop with Anton van Leeuwenhoek's dramatic improvement of the microscope. It was then that scholars discovered spermatozoa, bacteria, infusoria and the diversity of microscopic life. Investigations by Jan Swammerdam led to new interest in entomology and helped to develop techniques of microscopic dissection and staining.[13] Advances in microscopy had a profound impact on biological thinking. In the early 19th century, biologists pointed to the central importance of the cell. In 1838, Schleiden and Schwann began promoting the now universal ideas that (1) the basic unit of organisms is the cell and (2) that individual cells have all the characteristics of life, although they opposed the idea that (3) all cells come from the division of other cells, continuing to support spontaneous generation. However, Robert Remak and Rudolf Virchow were able to reify the third tenet, and by the 1860s most biologists accepted all three tenets which consolidated into cell theory.[14][15]\n",
      "\n",
      "Meanwhile, taxonomy and classification became the focus of natural historians. Carl Linnaeus published a basic taxonomy for the natural world in 1735, and in the 1750s introduced scientific names for all his species.[16] Georges-Louis Leclerc, Comte de Buffon, treated species as artificial categories and living forms as malleable—even suggesting the possibility of common descent.[17]\n",
      "\n",
      "\n",
      "In 1842, Charles Darwin penned his first sketch of On the Origin of Species.[18]\n",
      "Serious evolutionary thinking originated with the works of Jean-Baptiste Lamarck, who presented a coherent theory of evolution.[19] The British naturalist Charles Darwin, combining the biogeographical approach of Humboldt, the uniformitarian geology of Lyell, Malthus's writings on population growth, and his own morphological expertise and extensive natural observations, forged a more successful evolutionary theory based on natural selection; similar reasoning and evidence led Alfred Russel Wallace to independently reach the same conclusions.[20][21]\n",
      "\n",
      "The basis for modern genetics began with the work of Gregor Mendel in 1865.[22] This outlined the principles of biological inheritance.[23] However, the significance of his work was not realized until the early 20th century when evolution became a unified theory as the modern synthesis reconciled Darwinian evolution with classical genetics.[24] In the 1940s and early 1950s, a series of experiments by Alfred Hershey and Martha Chase pointed to DNA as the component of chromosomes that held the trait-carrying units that had become known as genes. A focus on new kinds of model organisms such as viruses and bacteria, along with the discovery of the double-helical structure of DNA by James Watson and Francis Crick in 1953, marked the transition to the era of molecular genetics. From the 1950s onwards, biology has been vastly extended in the molecular domain. The genetic code was cracked by Har Gobind Khorana, Robert W. Holley and Marshall Warren Nirenberg after DNA was understood to contain codons. The Human Genome Project was launched in 1990 to map the human genome.[25]\n",
      "\n",
      "Chemical basis\n",
      "Atoms and molecules\n",
      "Further information: Chemistry\n",
      "All organisms are made up of chemical elements;[26] oxygen, carbon, hydrogen, and nitrogen account for most (96%) of the mass of all organisms, with calcium, phosphorus, sulfur, sodium, chlorine, and magnesium constituting essentially all the remainder. Different elements can combine to form compounds such as water, which is fundamental to life.[26] Biochemistry is the study of chemical processes within and relating to living organisms. Molecular biology is the branch of biology that seeks to understand the molecular basis of biological activity in and between cells, including molecular synthesis, modification, mechanisms, and interactions.\n",
      "\n",
      "Water\n",
      "See also: Planetary habitability, Circumstellar habitable zone, and Water distribution on Earth\n",
      "\n",
      "Model of hydrogen bonds (1) between molecules of water\n",
      "Life arose from the Earth's first ocean, which formed some 3.8 billion years ago.[27] Since then, water continues to be the most abundant molecule in every organism. Water is important to life because it is an effective solvent, capable of dissolving solutes such as sodium and chloride ions or other small molecules to form an aqueous solution. Once dissolved in water, these solutes are more likely to come in contact with one another and therefore take part in chemical reactions that sustain life.[27] In terms of its molecular structure, water is a small polar molecule with a bent shape formed by the polar covalent bonds of two hydrogen (H) atoms to one oxygen (O) atom (H2O).[27] Because the O–H bonds are polar, the oxygen atom has a slight negative charge and the two hydrogen atoms have a slight positive charge.[27] This polar property of water allows it to attract other water molecules via hydrogen bonds, which makes water cohesive.[27] Surface tension results from the cohesive force due to the attraction between molecules at the surface of the liquid.[27] Water is also adhesive as it is able to adhere to the surface of any polar or charged non-water molecules.[27] Water is denser as a liquid than it is as a solid (or ice).[27] This unique property of water allows ice to float above liquid water such as ponds, lakes, and oceans, thereby insulating the liquid below from the cold air above.[27] Water has the capacity to absorb energy, giving it a higher specific heat capacity than other solvents such as ethanol.[27] Thus, a large amount of energy is needed to break the hydrogen bonds between water molecules to convert liquid water into water vapor.[27] As a molecule, water is not completely stable as each water molecule continuously dissociates into hydrogen and hydroxyl ions before reforming into a water molecule again.[27] In pure water, the number of hydrogen ions balances (or equals) the number of hydroxyl ions, resulting in a pH that is neutral.\n",
      "\n",
      "Organic compounds\n",
      "Further information: Organic chemistry\n",
      "\n",
      "Organic compounds such as glucose are vital to organisms.\n",
      "Organic compounds are molecules that contain carbon bonded to another element such as hydrogen.[27] With the exception of water, nearly all the molecules that make up each organism contain carbon.[27][28] Carbon can form covalent bonds with up to four other atoms, enabling it to form diverse, large, and complex molecules.[27][28] For example, a single carbon atom can form four single covalent bonds such as in methane, two double covalent bonds such as in carbon dioxide (CO2), or a triple covalent bond such as in carbon monoxide (CO). Moreover, carbon can form very long chains of interconnecting carbon–carbon bonds such as octane or ring-like structures such as glucose.\n",
      "\n",
      "The simplest form of an organic molecule is the hydrocarbon, which is a large family of organic compounds that are composed of hydrogen atoms bonded to a chain of carbon atoms. A hydrocarbon backbone can be substituted by other elements such as oxygen (O), hydrogen (H), phosphorus (P), and sulfur (S), which can change the chemical behavior of that compound.[27] Groups of atoms that contain these elements (O-, H-, P-, and S-) and are bonded to a central carbon atom or skeleton are called functional groups.[27] There are six prominent functional groups that can be found in organisms: amino group, carboxyl group, carbonyl group, hydroxyl group, phosphate group, and sulfhydryl group.[27]\n",
      "\n",
      "In 1953, the Miller–Urey experiment showed that organic compounds could be synthesized abiotically within a closed system mimicking the conditions of early Earth, thus suggesting that complex organic molecules could have arisen spontaneously in early Earth (see abiogenesis).[29][27]\n",
      "\n",
      "Macromolecules\n",
      "Main article: Macromolecule\n",
      "\n",
      "The (a) primary, (b) secondary, (c) tertiary, and (d) quaternary structures of a hemoglobin protein\n",
      "Macromolecules are large molecules made up of smaller subunits or monomers.[30] Monomers include sugars, amino acids, and nucleotides.[31] Carbohydrates include monomers and polymers of sugars.[32] Lipids are the only class of macromolecules that are not made up of polymers. They include steroids, phospholipids, and fats,[31] largely nonpolar and hydrophobic (water-repelling) substances.[33] Proteins are the most diverse of the macromolecules. They include enzymes, transport proteins, large signaling molecules, antibodies, and structural proteins. The basic unit (or monomer) of a protein is an amino acid.[30] Twenty amino acids are used in proteins.[30] Nucleic acids are polymers of nucleotides.[34] Their function is to store, transmit, and express hereditary information.[31]\n",
      "\n",
      "Cells\n",
      "Main article: Cell (biology)\n",
      "Cell theory states that cells are the fundamental units of life, that all living things are composed of one or more cells, and that all cells arise from preexisting cells through cell division.[35] Most cells are very small, with diameters ranging from 1 to 100 micrometers and are therefore only visible under a light or electron microscope.[36] There are generally two types of cells: eukaryotic cells, which contain a nucleus, and prokaryotic cells, which do not. Prokaryotes are single-celled organisms such as bacteria, whereas eukaryotes can be single-celled or multicellular. In multicellular organisms, every cell in the organism's body is derived ultimately from a single cell in a fertilized egg.\n",
      "\n",
      "Cell structure\n",
      "\n",
      "Structure of an animal cell depicting various organelles\n",
      "Every cell is enclosed within a cell membrane that separates its cytoplasm from the extracellular space.[37] A cell membrane consists of a lipid bilayer, including cholesterols that sit between phospholipids to maintain their fluidity at various temperatures. Cell membranes are semipermeable, allowing small molecules such as oxygen, carbon dioxide, and water to pass through while restricting the movement of larger molecules and charged particles such as ions.[38] Cell membranes also contain membrane proteins, including integral membrane proteins that go across the membrane serving as membrane transporters, and peripheral proteins that loosely attach to the outer side of the cell membrane, acting as enzymes shaping the cell.[39] Cell membranes are involved in various cellular processes such as cell adhesion, storing electrical energy, and cell signalling and serve as the attachment surface for several extracellular structures such as a cell wall, glycocalyx, and cytoskeleton.\n",
      "\n",
      "\n",
      "Structure of a plant cell\n",
      "Within the cytoplasm of a cell, there are many biomolecules such as proteins and nucleic acids.[40] In addition to biomolecules, eukaryotic cells have specialized structures called organelles that have their own lipid bilayers or are spatially units.[41] These organelles include the cell nucleus, which contains most of the cell's DNA, or mitochondria, which generate adenosine triphosphate (ATP) to power cellular processes. Other organelles such as endoplasmic reticulum and Golgi apparatus play a role in the synthesis and packaging of proteins, respectively. Biomolecules such as proteins can be engulfed by lysosomes, another specialized organelle. Plant cells have additional organelles that distinguish them from animal cells such as a cell wall that provides support for the plant cell, chloroplasts that harvest sunlight energy to produce sugar, and vacuoles that provide storage and structural support as well as being involved in reproduction and breakdown of plant seeds.[41] Eukaryotic cells also have cytoskeleton that is made up of microtubules, intermediate filaments, and microfilaments, all of which provide support for the cell and are involved in the movement of the cell and its organelles.[41] In terms of their structural composition, the microtubules are made up of tubulin (e.g., α-tubulin and β-tubulin) whereas intermediate filaments are made up of fibrous proteins.[41] Microfilaments are made up of actin molecules that interact with other strands of proteins.[41]\n",
      "\n",
      "\n",
      "You are an expert MCQ maker. Given the above text, it is your job to create a quiz of 5 multiple choice questions for Biology students in Hard tone.\n",
      "For each question, provide:\n",
      "- The question\n",
      "- Four options (a, b, c, d)\n",
      "- The correct answer (as a, b, c, or d)\n",
      "- A brief explanation for the correct answer\n",
      "\n",
      "Make sure the questions are not repeated and check all the questions to be conforming the text as well.\n",
      "Format your response like the RESPONSE_JSON below and use it as a guide.\n",
      "Ensure to make 5 MCQs.\n",
      "### RESPONSE_JSON\n",
      "{\"1\": {\"mcq\": \"multiple choice question\", \"options\": {\"a\": \"choice here\", \"b\": \"choice here\", \"c\": \"choice here\", \"d\": \"choice here\"}, \"correct\": \"correct answer\", \"explain\": \"explaination\"}, \"2\": {\"mcq\": \"multiple choice question\", \"options\": {\"a\": \"choice here\", \"b\": \"choice here\", \"c\": \"choice here\", \"d\": \"choice here\"}, \"correct\": \"correct answer\", \"explain\": \"explaination\"}, \"3\": {\"mcq\": \"multiple choice question\", \"options\": {\"a\": \"choice here\", \"b\": \"choice here\", \"c\": \"choice here\", \"d\": \"choice here\"}, \"correct\": \"correct answer\", \"explain\": \"explaination\"}}\n",
      "\u001b[0m\n",
      "\n",
      "\u001b[1m> Finished chain.\u001b[0m\n",
      "\n",
      "\u001b[1m> Finished chain.\u001b[0m\n"
     ]
    }
   ],
   "source": [
    "#https://python.langchain.com/docs/modules/model_io/llms/token_usage_tracking\n",
    "\n",
    "#How to setup Token Usage Tracking in LangChain\n",
    "with get_openai_callback() as cb:\n",
    "    response=generate_evaluate_chain(\n",
    "        {\n",
    "            \"text\": TEXT,\n",
    "            \"number\": NUMBER,\n",
    "            \"subject\":SUBJECT,\n",
    "            \"tone\": TONE,\n",
    "            \"response_json\": json.dumps(RESPONSE_JSON)\n",
    "        }\n",
    ")"
   ]
  },
  {
   "cell_type": "code",
   "execution_count": 36,
   "metadata": {},
   "outputs": [
    {
     "name": "stdout",
     "output_type": "stream",
     "text": [
      "Total Tokens:8221\n",
      "Prompt Tokens:7236\n",
      "Completion Tokens:985\n",
      "Total Cost:0.012823999999999999\n"
     ]
    }
   ],
   "source": [
    "print(f\"Total Tokens:{cb.total_tokens}\")\n",
    "print(f\"Prompt Tokens:{cb.prompt_tokens}\")\n",
    "print(f\"Completion Tokens:{cb.completion_tokens}\")\n",
    "print(f\"Total Cost:{cb.total_cost}\")"
   ]
  },
  {
   "cell_type": "code",
   "execution_count": 37,
   "metadata": {},
   "outputs": [
    {
     "data": {
      "text/plain": [
       "{'text': '\"Biological\" redirects here. For other uses, see Biological (disambiguation) and Biology (disambiguation).\\n\\n\\n\\n\\n\\n\\nClockwise from upper left: A Nile crocodile, the common sunflower, Escherichia coli, Amoeba proteus, the fruit fly, and Sarcoscypha coccinea\\nPart of a series on\\nBiology\\n\\nIndexOutlineGlossary\\nHistory (timeline)\\nKey components\\nBranches\\nResearch\\nApplications\\nicon Biology portal Category\\nvte\\nBiology is the scientific study of life and living organisms. It is a broad natural science that encompasses a wide range of fields and unifying principles that explain the structure, function, growth, origin, evolution, and distribution of life. Central to biology are five fundamental themes: the cell as the basic unit of life, genes and heredity as the basis of inheritance, evolution as the driver of biological diversity, energy transformation for sustaining life processes, and the maintenance of internal stability (homeostasis).[1][2]\\n\\nBiology examines life across multiple levels of organization, from molecules and cells to organisms, populations, and ecosystems. Subdisciplines include molecular biology, physiology, ecology, evolutionary biology, developmental biology, and systematics, among others. Each of these fields applies a range of methods to investigate biological phenomena, including observation, experimentation, and mathematical modeling. Modern biology is grounded in the theory of evolution by natural selection, first articulated by Charles Darwin, and in the molecular understanding of genes encoded in DNA. The discovery of the structure of DNA and advances in molecular genetics have transformed many areas of biology, leading to applications in medicine, agriculture, biotechnology, and environmental science.\\n\\nLife on Earth is believed to have originated over 3.7 billion years ago.[3] Today, it includes a vast diversity of organisms—from single-celled archaea and bacteria to complex multicellular plants, fungi, and animals. Biologists classify organisms based on shared characteristics and evolutionary relationships, using taxonomic and phylogenetic frameworks. These organisms interact with each other and with their environments in ecosystems, where they play roles in energy flow and nutrient cycling. As a constantly evolving field, biology incorporates new discoveries and technologies that enhance the understanding of life and its processes, while contributing to solutions for challenges such as disease, climate change, and biodiversity loss.\\n\\nEtymology\\nFrom Greek bios, life, (from Proto-Indo-European root *gwei-, to live) and logy, study of. The compound was coined in 1800 by Karl Friedrich Burdach and in 1802 used by both German naturalist Gottfried Reinhold Treviranus and Jean-Baptiste Lamarck.[4]\\n\\nHistory\\nMain article: History of biology\\n\\nDrawing of what now are called Schwann cells by one of the founders of cell theory, Theodor Schwann.\\nThe earliest of roots of science, which included medicine, can be traced to ancient Egypt and Mesopotamia in around 3000 to 1200 BCE.[5][6] Their contributions shaped ancient Greek natural philosophy.[7][5][6][8][9] Ancient Greek philosophers such as Aristotle (384–322 BCE) contributed extensively to the development of biological knowledge.[10] He explored biological causation and the diversity of life. His successor, Theophrastus, began the scientific study of plants.[11] Scholars of the medieval Islamic world who wrote on biology included al-Jahiz (781–869), Al-Dīnawarī (828–896), who wrote on botany,[12] and Rhazes (865–925) who wrote on anatomy and physiology. Medicine was especially well studied by Islamic scholars working in Greek philosopher traditions, while natural history drew heavily on Aristotelian thought.\\n\\nBiology began to quickly develop with Anton van Leeuwenhoek\\'s dramatic improvement of the microscope. It was then that scholars discovered spermatozoa, bacteria, infusoria and the diversity of microscopic life. Investigations by Jan Swammerdam led to new interest in entomology and helped to develop techniques of microscopic dissection and staining.[13] Advances in microscopy had a profound impact on biological thinking. In the early 19th century, biologists pointed to the central importance of the cell. In 1838, Schleiden and Schwann began promoting the now universal ideas that (1) the basic unit of organisms is the cell and (2) that individual cells have all the characteristics of life, although they opposed the idea that (3) all cells come from the division of other cells, continuing to support spontaneous generation. However, Robert Remak and Rudolf Virchow were able to reify the third tenet, and by the 1860s most biologists accepted all three tenets which consolidated into cell theory.[14][15]\\n\\nMeanwhile, taxonomy and classification became the focus of natural historians. Carl Linnaeus published a basic taxonomy for the natural world in 1735, and in the 1750s introduced scientific names for all his species.[16] Georges-Louis Leclerc, Comte de Buffon, treated species as artificial categories and living forms as malleable—even suggesting the possibility of common descent.[17]\\n\\n\\nIn 1842, Charles Darwin penned his first sketch of On the Origin of Species.[18]\\nSerious evolutionary thinking originated with the works of Jean-Baptiste Lamarck, who presented a coherent theory of evolution.[19] The British naturalist Charles Darwin, combining the biogeographical approach of Humboldt, the uniformitarian geology of Lyell, Malthus\\'s writings on population growth, and his own morphological expertise and extensive natural observations, forged a more successful evolutionary theory based on natural selection; similar reasoning and evidence led Alfred Russel Wallace to independently reach the same conclusions.[20][21]\\n\\nThe basis for modern genetics began with the work of Gregor Mendel in 1865.[22] This outlined the principles of biological inheritance.[23] However, the significance of his work was not realized until the early 20th century when evolution became a unified theory as the modern synthesis reconciled Darwinian evolution with classical genetics.[24] In the 1940s and early 1950s, a series of experiments by Alfred Hershey and Martha Chase pointed to DNA as the component of chromosomes that held the trait-carrying units that had become known as genes. A focus on new kinds of model organisms such as viruses and bacteria, along with the discovery of the double-helical structure of DNA by James Watson and Francis Crick in 1953, marked the transition to the era of molecular genetics. From the 1950s onwards, biology has been vastly extended in the molecular domain. The genetic code was cracked by Har Gobind Khorana, Robert W. Holley and Marshall Warren Nirenberg after DNA was understood to contain codons. The Human Genome Project was launched in 1990 to map the human genome.[25]\\n\\nChemical basis\\nAtoms and molecules\\nFurther information: Chemistry\\nAll organisms are made up of chemical elements;[26] oxygen, carbon, hydrogen, and nitrogen account for most (96%) of the mass of all organisms, with calcium, phosphorus, sulfur, sodium, chlorine, and magnesium constituting essentially all the remainder. Different elements can combine to form compounds such as water, which is fundamental to life.[26] Biochemistry is the study of chemical processes within and relating to living organisms. Molecular biology is the branch of biology that seeks to understand the molecular basis of biological activity in and between cells, including molecular synthesis, modification, mechanisms, and interactions.\\n\\nWater\\nSee also: Planetary habitability, Circumstellar habitable zone, and Water distribution on Earth\\n\\nModel of hydrogen bonds (1) between molecules of water\\nLife arose from the Earth\\'s first ocean, which formed some 3.8 billion years ago.[27] Since then, water continues to be the most abundant molecule in every organism. Water is important to life because it is an effective solvent, capable of dissolving solutes such as sodium and chloride ions or other small molecules to form an aqueous solution. Once dissolved in water, these solutes are more likely to come in contact with one another and therefore take part in chemical reactions that sustain life.[27] In terms of its molecular structure, water is a small polar molecule with a bent shape formed by the polar covalent bonds of two hydrogen (H) atoms to one oxygen (O) atom (H2O).[27] Because the O–H bonds are polar, the oxygen atom has a slight negative charge and the two hydrogen atoms have a slight positive charge.[27] This polar property of water allows it to attract other water molecules via hydrogen bonds, which makes water cohesive.[27] Surface tension results from the cohesive force due to the attraction between molecules at the surface of the liquid.[27] Water is also adhesive as it is able to adhere to the surface of any polar or charged non-water molecules.[27] Water is denser as a liquid than it is as a solid (or ice).[27] This unique property of water allows ice to float above liquid water such as ponds, lakes, and oceans, thereby insulating the liquid below from the cold air above.[27] Water has the capacity to absorb energy, giving it a higher specific heat capacity than other solvents such as ethanol.[27] Thus, a large amount of energy is needed to break the hydrogen bonds between water molecules to convert liquid water into water vapor.[27] As a molecule, water is not completely stable as each water molecule continuously dissociates into hydrogen and hydroxyl ions before reforming into a water molecule again.[27] In pure water, the number of hydrogen ions balances (or equals) the number of hydroxyl ions, resulting in a pH that is neutral.\\n\\nOrganic compounds\\nFurther information: Organic chemistry\\n\\nOrganic compounds such as glucose are vital to organisms.\\nOrganic compounds are molecules that contain carbon bonded to another element such as hydrogen.[27] With the exception of water, nearly all the molecules that make up each organism contain carbon.[27][28] Carbon can form covalent bonds with up to four other atoms, enabling it to form diverse, large, and complex molecules.[27][28] For example, a single carbon atom can form four single covalent bonds such as in methane, two double covalent bonds such as in carbon dioxide (CO2), or a triple covalent bond such as in carbon monoxide (CO). Moreover, carbon can form very long chains of interconnecting carbon–carbon bonds such as octane or ring-like structures such as glucose.\\n\\nThe simplest form of an organic molecule is the hydrocarbon, which is a large family of organic compounds that are composed of hydrogen atoms bonded to a chain of carbon atoms. A hydrocarbon backbone can be substituted by other elements such as oxygen (O), hydrogen (H), phosphorus (P), and sulfur (S), which can change the chemical behavior of that compound.[27] Groups of atoms that contain these elements (O-, H-, P-, and S-) and are bonded to a central carbon atom or skeleton are called functional groups.[27] There are six prominent functional groups that can be found in organisms: amino group, carboxyl group, carbonyl group, hydroxyl group, phosphate group, and sulfhydryl group.[27]\\n\\nIn 1953, the Miller–Urey experiment showed that organic compounds could be synthesized abiotically within a closed system mimicking the conditions of early Earth, thus suggesting that complex organic molecules could have arisen spontaneously in early Earth (see abiogenesis).[29][27]\\n\\nMacromolecules\\nMain article: Macromolecule\\n\\nThe (a) primary, (b) secondary, (c) tertiary, and (d) quaternary structures of a hemoglobin protein\\nMacromolecules are large molecules made up of smaller subunits or monomers.[30] Monomers include sugars, amino acids, and nucleotides.[31] Carbohydrates include monomers and polymers of sugars.[32] Lipids are the only class of macromolecules that are not made up of polymers. They include steroids, phospholipids, and fats,[31] largely nonpolar and hydrophobic (water-repelling) substances.[33] Proteins are the most diverse of the macromolecules. They include enzymes, transport proteins, large signaling molecules, antibodies, and structural proteins. The basic unit (or monomer) of a protein is an amino acid.[30] Twenty amino acids are used in proteins.[30] Nucleic acids are polymers of nucleotides.[34] Their function is to store, transmit, and express hereditary information.[31]\\n\\nCells\\nMain article: Cell (biology)\\nCell theory states that cells are the fundamental units of life, that all living things are composed of one or more cells, and that all cells arise from preexisting cells through cell division.[35] Most cells are very small, with diameters ranging from 1 to 100 micrometers and are therefore only visible under a light or electron microscope.[36] There are generally two types of cells: eukaryotic cells, which contain a nucleus, and prokaryotic cells, which do not. Prokaryotes are single-celled organisms such as bacteria, whereas eukaryotes can be single-celled or multicellular. In multicellular organisms, every cell in the organism\\'s body is derived ultimately from a single cell in a fertilized egg.\\n\\nCell structure\\n\\nStructure of an animal cell depicting various organelles\\nEvery cell is enclosed within a cell membrane that separates its cytoplasm from the extracellular space.[37] A cell membrane consists of a lipid bilayer, including cholesterols that sit between phospholipids to maintain their fluidity at various temperatures. Cell membranes are semipermeable, allowing small molecules such as oxygen, carbon dioxide, and water to pass through while restricting the movement of larger molecules and charged particles such as ions.[38] Cell membranes also contain membrane proteins, including integral membrane proteins that go across the membrane serving as membrane transporters, and peripheral proteins that loosely attach to the outer side of the cell membrane, acting as enzymes shaping the cell.[39] Cell membranes are involved in various cellular processes such as cell adhesion, storing electrical energy, and cell signalling and serve as the attachment surface for several extracellular structures such as a cell wall, glycocalyx, and cytoskeleton.\\n\\n\\nStructure of a plant cell\\nWithin the cytoplasm of a cell, there are many biomolecules such as proteins and nucleic acids.[40] In addition to biomolecules, eukaryotic cells have specialized structures called organelles that have their own lipid bilayers or are spatially units.[41] These organelles include the cell nucleus, which contains most of the cell\\'s DNA, or mitochondria, which generate adenosine triphosphate (ATP) to power cellular processes. Other organelles such as endoplasmic reticulum and Golgi apparatus play a role in the synthesis and packaging of proteins, respectively. Biomolecules such as proteins can be engulfed by lysosomes, another specialized organelle. Plant cells have additional organelles that distinguish them from animal cells such as a cell wall that provides support for the plant cell, chloroplasts that harvest sunlight energy to produce sugar, and vacuoles that provide storage and structural support as well as being involved in reproduction and breakdown of plant seeds.[41] Eukaryotic cells also have cytoskeleton that is made up of microtubules, intermediate filaments, and microfilaments, all of which provide support for the cell and are involved in the movement of the cell and its organelles.[41] In terms of their structural composition, the microtubules are made up of tubulin (e.g., α-tubulin and β-tubulin) whereas intermediate filaments are made up of fibrous proteins.[41] Microfilaments are made up of actin molecules that interact with other strands of proteins.[41]\\n\\n',\n",
       " 'number': 5,\n",
       " 'subject': 'Biology',\n",
       " 'tone': 'Hard',\n",
       " 'response_json': '{\"1\": {\"mcq\": \"multiple choice question\", \"options\": {\"a\": \"choice here\", \"b\": \"choice here\", \"c\": \"choice here\", \"d\": \"choice here\"}, \"correct\": \"correct answer\", \"explain\": \"explaination\"}, \"2\": {\"mcq\": \"multiple choice question\", \"options\": {\"a\": \"choice here\", \"b\": \"choice here\", \"c\": \"choice here\", \"d\": \"choice here\"}, \"correct\": \"correct answer\", \"explain\": \"explaination\"}, \"3\": {\"mcq\": \"multiple choice question\", \"options\": {\"a\": \"choice here\", \"b\": \"choice here\", \"c\": \"choice here\", \"d\": \"choice here\"}, \"correct\": \"correct answer\", \"explain\": \"explaination\"}}',\n",
       " 'quiz': '{\\n\"1\": {\\n\"mcq\": \"What is the fundamental unit of life according to cell theory?\",\\n\"options\": {\"a\": \"Molecules\", \"b\": \"Organelles\", \"c\": \"Cells\", \"d\": \"Tissues\"},\\n\"correct\": \"c\",\\n\"explain\": \"Cell theory states that cells are the fundamental units of life, making option c, \\'Cells\\', the correct answer.\"\\n},\\n\"2\": {\\n\"mcq\": \"Which scientist is credited with the theory of evolution by natural selection?\",\\n\"options\": {\"a\": \"Gregor Mendel\", \"b\": \"Anton van Leeuwenhoek\", \"c\": \"Charles Darwin\", \"d\": \"Louis Pasteur\"},\\n\"correct\": \"c\",\\n\"explain\": \"Charles Darwin is credited with the theory of evolution by natural selection, making option c, \\'Charles Darwin\\', the correct answer.\"\\n},\\n\"3\": {\\n\"mcq\": \"Which of the following is NOT a macromolecule?\",\\n\"options\": {\"a\": \"Proteins\", \"b\": \"Lipids\", \"c\": \"Sugars\", \"d\": \"Water\"},\\n\"correct\": \"d\",\\n\"explain\": \"Water is not a macromolecule, as it is a small polar molecule, making option d, \\'Water\\', the correct answer.\"\\n},\\n\"4\": {\\n\"mcq\": \"What is the function of mitochondria in a cell?\",\\n\"options\": {\"a\": \"Protein synthesis\", \"b\": \"Energy production\", \"c\": \"Storage of genetic material\", \"d\": \"Cell movement\"},\\n\"correct\": \"b\",\\n\"explain\": \"Mitochondria are responsible for generating adenosine triphosphate (ATP) to power cellular processes, making option b, \\'Energy production\\', the correct answer.\"\\n},\\n\"5\": {\\n\"mcq\": \"Which element is NOT one of the most abundant in living organisms?\",\\n\"options\": {\"a\": \"Oxygen\", \"b\": \"Carbon\", \"c\": \"Hydrogen\", \"d\": \"Calcium\"},\\n\"correct\": \"d\",\\n\"explain\": \"Calcium is not one of the most abundant elements in living organisms, as it constitutes only a small remainder, making option d, \\'Calcium\\', the correct answer.\"\\n}\\n}',\n",
       " 'review': '{\\n    \"1\": {\\n        \"mcq\": \"What is the study of chemical processes within and relating to living organisms?\",\\n        \"options\": {\\n            \"a\": \"Biochemistry\",\\n            \"b\": \"Physics\",\\n            \"c\": \"Geology\",\\n            \"d\": \"Astronomy\"\\n        },\\n        \"correct\": \"a\",\\n        \"explain\": \"Biochemistry is the branch of biology that focuses on chemical processes within living organisms.\"\\n    },\\n    \"2\": {\\n        \"mcq\": \"Which of the following is NOT a macromolecule?\",\\n        \"options\": {\\n            \"a\": \"Proteins\",\\n            \"b\": \"Carbohydrates\",\\n            \"c\": \"Lipids\",\\n            \"d\": \"Glucose\"\\n        },\\n        \"correct\": \"d\",\\n        \"explain\": \"Glucose is a monosaccharide and a simple sugar, not a macromolecule like proteins, carbohydrates, and lipids.\"\\n    },\\n    \"3\": {\\n        \"mcq\": \"What is the basic unit of a protein?\",\\n        \"options\": {\\n            \"a\": \"Nucleotide\",\\n            \"b\": \"Amino Acid\",\\n            \"c\": \"Monosaccharide\",\\n            \"d\": \"Fatty Acid\"\\n        },\\n        \"correct\": \"b\",\\n        \"explain\": \"Amino acids are the building blocks of proteins, with 20 different amino acids used in protein synthesis.\"\\n    },\\n    \"4\": {\\n        \"mcq\": \"Which type of cell contains a nucleus?\",\\n        \"options\": {\\n            \"a\": \"Prokaryotic cell\",\\n            \"b\": \"Eukaryotic cell\",\\n            \"c\": \"Bacterial cell\",\\n            \"d\": \"Viral cell\"\\n        },\\n        \"correct\": \"b\",\\n        \"explain\": \"Eukaryotic cells contain a nucleus, while prokaryotic cells do not have a nucleus.\"\\n    },\\n    \"5\": {\\n        \"mcq\": \"What is the function of mitochondria in a cell?\",\\n        \"options\": {\\n            \"a\": \"Protein synthesis\",\\n            \"b\": \"Energy production\",\\n            \"c\": \"Storage of genetic material\",\\n            \"d\": \"Cell division\"\\n        },\\n        \"correct\": \"b\",\\n        \"explain\": \"Mitochondria are known as the powerhouse of the cell, responsible for generating adenosine triphosphate (ATP) to power cellular processes.\"\\n    }\\n}'}"
      ]
     },
     "execution_count": 37,
     "metadata": {},
     "output_type": "execute_result"
    }
   ],
   "source": [
    "response"
   ]
  },
  {
   "cell_type": "code",
   "execution_count": 38,
   "metadata": {},
   "outputs": [
    {
     "name": "stdout",
     "output_type": "stream",
     "text": [
      "Q1: What is the fundamental unit of life according to cell theory?\n",
      "  a. Molecules\n",
      "  b. Organelles\n",
      "  c. Cells\n",
      "  d. Tissues\n",
      "Correct: c\n",
      "Explanation: Cell theory states that cells are the fundamental units of life, making option c, 'Cells', the correct answer.\n",
      "\n",
      "Q2: Which scientist is credited with the theory of evolution by natural selection?\n",
      "  a. Gregor Mendel\n",
      "  b. Anton van Leeuwenhoek\n",
      "  c. Charles Darwin\n",
      "  d. Louis Pasteur\n",
      "Correct: c\n",
      "Explanation: Charles Darwin is credited with the theory of evolution by natural selection, making option c, 'Charles Darwin', the correct answer.\n",
      "\n",
      "Q3: Which of the following is NOT a macromolecule?\n",
      "  a. Proteins\n",
      "  b. Lipids\n",
      "  c. Sugars\n",
      "  d. Water\n",
      "Correct: d\n",
      "Explanation: Water is not a macromolecule, as it is a small polar molecule, making option d, 'Water', the correct answer.\n",
      "\n",
      "Q4: What is the function of mitochondria in a cell?\n",
      "  a. Protein synthesis\n",
      "  b. Energy production\n",
      "  c. Storage of genetic material\n",
      "  d. Cell movement\n",
      "Correct: b\n",
      "Explanation: Mitochondria are responsible for generating adenosine triphosphate (ATP) to power cellular processes, making option b, 'Energy production', the correct answer.\n",
      "\n",
      "Q5: Which element is NOT one of the most abundant in living organisms?\n",
      "  a. Oxygen\n",
      "  b. Carbon\n",
      "  c. Hydrogen\n",
      "  d. Calcium\n",
      "Correct: d\n",
      "Explanation: Calcium is not one of the most abundant elements in living organisms, as it constitutes only a small remainder, making option d, 'Calcium', the correct answer.\n",
      "\n"
     ]
    }
   ],
   "source": [
    "quiz = json.loads(response.get(\"quiz\"))\n",
    "for q_num, q_data in quiz.items():\n",
    "    print(f\"Q{q_num}: {q_data['mcq']}\")\n",
    "    for opt, text in q_data['options'].items():\n",
    "        print(f\"  {opt}. {text}\")\n",
    "    print(f\"Correct: {q_data['correct']}\")\n",
    "    print(f\"Explanation: {q_data['explain']}\\n\")"
   ]
  },
  {
   "cell_type": "code",
   "execution_count": 39,
   "metadata": {},
   "outputs": [],
   "source": [
    "quiz_table_data = []\n",
    "for key, value in quiz.items():\n",
    "    mcq = value[\"mcq\"]\n",
    "    options = \" | \".join(\n",
    "        [\n",
    "            f\"{option}: {option_value}\"\n",
    "            for option, option_value in value[\"options\"].items()\n",
    "            ]\n",
    "        )\n",
    "    correct = value[\"correct\"]\n",
    "    explain = value[\"explain\"]\n",
    "    quiz_table_data.append({\"MCQ\": mcq, \"Choices\": options, \"Correct\": correct,\"Explanation\": explain}) "
   ]
  },
  {
   "cell_type": "code",
   "execution_count": 40,
   "metadata": {},
   "outputs": [
    {
     "data": {
      "text/plain": [
       "[{'MCQ': 'What is the fundamental unit of life according to cell theory?',\n",
       "  'Choices': 'a: Molecules | b: Organelles | c: Cells | d: Tissues',\n",
       "  'Correct': 'c',\n",
       "  'Explanation': \"Cell theory states that cells are the fundamental units of life, making option c, 'Cells', the correct answer.\"},\n",
       " {'MCQ': 'Which scientist is credited with the theory of evolution by natural selection?',\n",
       "  'Choices': 'a: Gregor Mendel | b: Anton van Leeuwenhoek | c: Charles Darwin | d: Louis Pasteur',\n",
       "  'Correct': 'c',\n",
       "  'Explanation': \"Charles Darwin is credited with the theory of evolution by natural selection, making option c, 'Charles Darwin', the correct answer.\"},\n",
       " {'MCQ': 'Which of the following is NOT a macromolecule?',\n",
       "  'Choices': 'a: Proteins | b: Lipids | c: Sugars | d: Water',\n",
       "  'Correct': 'd',\n",
       "  'Explanation': \"Water is not a macromolecule, as it is a small polar molecule, making option d, 'Water', the correct answer.\"},\n",
       " {'MCQ': 'What is the function of mitochondria in a cell?',\n",
       "  'Choices': 'a: Protein synthesis | b: Energy production | c: Storage of genetic material | d: Cell movement',\n",
       "  'Correct': 'b',\n",
       "  'Explanation': \"Mitochondria are responsible for generating adenosine triphosphate (ATP) to power cellular processes, making option b, 'Energy production', the correct answer.\"},\n",
       " {'MCQ': 'Which element is NOT one of the most abundant in living organisms?',\n",
       "  'Choices': 'a: Oxygen | b: Carbon | c: Hydrogen | d: Calcium',\n",
       "  'Correct': 'd',\n",
       "  'Explanation': \"Calcium is not one of the most abundant elements in living organisms, as it constitutes only a small remainder, making option d, 'Calcium', the correct answer.\"}]"
      ]
     },
     "execution_count": 40,
     "metadata": {},
     "output_type": "execute_result"
    }
   ],
   "source": [
    "quiz_table_data"
   ]
  },
  {
   "cell_type": "code",
   "execution_count": 41,
   "metadata": {},
   "outputs": [],
   "source": [
    "quiz = pd.DataFrame(quiz_table_data)"
   ]
  },
  {
   "cell_type": "code",
   "execution_count": 42,
   "metadata": {},
   "outputs": [],
   "source": [
    "quiz.to_csv(\"biology.csv\", index=False)"
   ]
  },
  {
   "cell_type": "code",
   "execution_count": 43,
   "metadata": {},
   "outputs": [
    {
     "name": "stdout",
     "output_type": "stream",
     "text": [
      "<class 'pandas.core.frame.DataFrame'>\n"
     ]
    }
   ],
   "source": [
    "print(type(quiz))"
   ]
  },
  {
   "cell_type": "code",
   "execution_count": 45,
   "metadata": {},
   "outputs": [
    {
     "data": {
      "text/plain": [
       "{'07_09_2025_09_30_42'}"
      ]
     },
     "execution_count": 45,
     "metadata": {},
     "output_type": "execute_result"
    }
   ],
   "source": [
    "from datetime import datetime\n",
    "\n",
    "{datetime.now().strftime('%m_%d_%Y_%H_%M_%S')}"
   ]
  },
  {
   "cell_type": "code",
   "execution_count": null,
   "metadata": {},
   "outputs": [],
   "source": []
  }
 ],
 "metadata": {
  "kernelspec": {
   "display_name": "Python 3",
   "language": "python",
   "name": "python3"
  },
  "language_info": {
   "codemirror_mode": {
    "name": "ipython",
    "version": 3
   },
   "file_extension": ".py",
   "mimetype": "text/x-python",
   "name": "python",
   "nbconvert_exporter": "python",
   "pygments_lexer": "ipython3",
   "version": "3.8.20"
  }
 },
 "nbformat": 4,
 "nbformat_minor": 2
}
